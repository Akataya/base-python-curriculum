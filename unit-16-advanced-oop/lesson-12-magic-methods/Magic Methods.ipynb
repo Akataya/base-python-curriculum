{
 "cells": [
  {
   "cell_type": "markdown",
   "metadata": {},
   "source": [
    "# Magic Methods\n",
    "\n",
    "* _(Recommended reading: https://blog.rmotr.com/python-magic-methods-and-getattr-75cf896b3f88)_\n",
    "* _(Magic Methods Guide: https://rszalski.github.io/magicmethods/)_\n",
    "\n",
    "Magic methods are all those methods that you're NOT invoking directly. Python is doing it for you. It's a really **broad** term. Each magic method has it's own usage and purpose."
   ]
  },
  {
   "cell_type": "markdown",
   "metadata": {},
   "source": [
    "### `__str__` and `__repr__`\n",
    "\n",
    "* **`__str__`** > What humans read\n",
    "* **`__repr__`** > What machines read"
   ]
  },
  {
   "cell_type": "code",
   "execution_count": null,
   "metadata": {},
   "outputs": [],
   "source": [
    "class Book(object):\n",
    "    def __init__(self, title, author):\n",
    "        self.title = title\n",
    "        self.author = author"
   ]
  },
  {
   "cell_type": "code",
   "execution_count": null,
   "metadata": {},
   "outputs": [],
   "source": [
    "emma = Book('Emma', 'Jane Austen')\n",
    "the_raven = Book('The Raven', 'E. A. Poe')"
   ]
  },
  {
   "cell_type": "code",
   "execution_count": null,
   "metadata": {},
   "outputs": [],
   "source": [
    "print(emma)"
   ]
  },
  {
   "cell_type": "code",
   "execution_count": null,
   "metadata": {},
   "outputs": [],
   "source": [
    "print(the_raven)"
   ]
  },
  {
   "cell_type": "code",
   "execution_count": null,
   "metadata": {},
   "outputs": [],
   "source": [
    "class Book(object):\n",
    "    def __init__(self, title, author):\n",
    "        self.title = title\n",
    "        self.author = author\n",
    "    \n",
    "    def __str__(self):\n",
    "        return \"{} by {}\".format(self.title, self.author)\n",
    "\n",
    "emma = Book('Emma', 'Jane Austen')\n",
    "the_raven = Book('The Raven', 'E. A. Poe')"
   ]
  },
  {
   "cell_type": "code",
   "execution_count": null,
   "metadata": {},
   "outputs": [],
   "source": [
    "print(emma)"
   ]
  },
  {
   "cell_type": "code",
   "execution_count": null,
   "metadata": {},
   "outputs": [],
   "source": [
    "print(the_raven)"
   ]
  },
  {
   "cell_type": "code",
   "execution_count": null,
   "metadata": {},
   "outputs": [],
   "source": [
    "emma"
   ]
  },
  {
   "cell_type": "code",
   "execution_count": null,
   "metadata": {},
   "outputs": [],
   "source": [
    "the_raven"
   ]
  },
  {
   "cell_type": "code",
   "execution_count": null,
   "metadata": {},
   "outputs": [],
   "source": [
    "class Book(object):\n",
    "    def __init__(self, title, author):\n",
    "        self.title = title\n",
    "        self.author = author\n",
    "    \n",
    "    def __str__(self):\n",
    "        return \"{} by {}\".format(self.title, self.author)\n",
    "    \n",
    "    def __repr__(self):\n",
    "        return \"Book(title='{}', auhtor='{}')\".format(self.title, self.author)\n",
    "\n",
    "\n",
    "emma = Book('Emma', 'Jane Austen')\n",
    "the_raven = Book('The Raven', 'E. A. Poe')"
   ]
  },
  {
   "cell_type": "code",
   "execution_count": null,
   "metadata": {},
   "outputs": [],
   "source": [
    "emma"
   ]
  },
  {
   "cell_type": "code",
   "execution_count": null,
   "metadata": {},
   "outputs": [],
   "source": [
    "the_raven"
   ]
  },
  {
   "cell_type": "code",
   "execution_count": null,
   "metadata": {},
   "outputs": [],
   "source": [
    "from datetime import datetime\n",
    "d = datetime(2018, 1, 1, 21, 30, 55)"
   ]
  },
  {
   "cell_type": "code",
   "execution_count": null,
   "metadata": {},
   "outputs": [],
   "source": [
    "print(d)"
   ]
  },
  {
   "cell_type": "code",
   "execution_count": null,
   "metadata": {},
   "outputs": [],
   "source": [
    "d"
   ]
  },
  {
   "cell_type": "code",
   "execution_count": null,
   "metadata": {},
   "outputs": [],
   "source": [
    "str(d)"
   ]
  },
  {
   "cell_type": "code",
   "execution_count": null,
   "metadata": {},
   "outputs": [],
   "source": [
    "repr(d)"
   ]
  },
  {
   "cell_type": "markdown",
   "metadata": {},
   "source": [
    "### More to Magic Methods\n",
    "\n",
    "`__str__` and `__repr__` give us a sense of what Magic Methods \"are\". Special methods that Python treats differently. We **never** invoke Magic Methods directly.\n",
    "\n",
    "For a better example, we need to talk about **INTERFACES**. Next lesson."
   ]
  }
 ],
 "metadata": {
  "kernelspec": {
   "display_name": "Python 3",
   "language": "python",
   "name": "python3"
  },
  "language_info": {
   "codemirror_mode": {
    "name": "ipython",
    "version": 3
   },
   "file_extension": ".py",
   "mimetype": "text/x-python",
   "name": "python",
   "nbconvert_exporter": "python",
   "pygments_lexer": "ipython3",
   "version": "3.6.0"
  }
 },
 "nbformat": 4,
 "nbformat_minor": 2
}
