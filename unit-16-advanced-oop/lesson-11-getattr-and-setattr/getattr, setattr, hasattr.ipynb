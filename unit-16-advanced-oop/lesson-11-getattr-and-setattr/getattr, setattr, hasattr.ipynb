{
 "cells": [
  {
   "cell_type": "markdown",
   "metadata": {},
   "source": [
    "# `getattr`, `setattr` and `hasattr`\n",
    "\n",
    "These methods will let you get, set or check for attributes dynamically. These are a little bit more \"advanced\" features that will allow you to write more dynamic code with higher reusability."
   ]
  },
  {
   "cell_type": "code",
   "execution_count": null,
   "metadata": {},
   "outputs": [],
   "source": [
    "class Book(object):\n",
    "    def __init__(self, title):\n",
    "        self.title = title\n",
    "        \n",
    "class Person(object):\n",
    "    def __init__(self, name):\n",
    "        self.name = name"
   ]
  },
  {
   "cell_type": "code",
   "execution_count": null,
   "metadata": {},
   "outputs": [],
   "source": [
    "the_raven = Book('The Raven')\n",
    "jane = Person('Jane')"
   ]
  },
  {
   "cell_type": "code",
   "execution_count": null,
   "metadata": {},
   "outputs": [],
   "source": [
    "def person_printer(a_person):\n",
    "    name = a_person.name\n",
    "    print(\"Person's name is: {}\".format(name))"
   ]
  },
  {
   "cell_type": "code",
   "execution_count": null,
   "metadata": {},
   "outputs": [],
   "source": [
    "person_printer(jane)"
   ]
  },
  {
   "cell_type": "code",
   "execution_count": null,
   "metadata": {},
   "outputs": [],
   "source": [
    "def book_printer(a_book):\n",
    "    title = a_book.title\n",
    "    print(\"Book's title is: {}\".format(title))"
   ]
  },
  {
   "cell_type": "markdown",
   "metadata": {},
   "source": [
    "These two functions are doing pretty much the same thing. Wouldn't it be great to somehow reuse the code?\n",
    "\n",
    "Enter `getattr`:"
   ]
  },
  {
   "cell_type": "code",
   "execution_count": null,
   "metadata": {},
   "outputs": [],
   "source": [
    "jane.name"
   ]
  },
  {
   "cell_type": "code",
   "execution_count": null,
   "metadata": {},
   "outputs": [],
   "source": [
    "getattr(jane, 'name')"
   ]
  },
  {
   "cell_type": "code",
   "execution_count": null,
   "metadata": {},
   "outputs": [],
   "source": [
    "the_raven.title"
   ]
  },
  {
   "cell_type": "code",
   "execution_count": null,
   "metadata": {},
   "outputs": [],
   "source": [
    "getattr(the_raven, 'title')"
   ]
  },
  {
   "cell_type": "markdown",
   "metadata": {},
   "source": [
    "We can now rewrite the function and make it a little bit more dynamic:"
   ]
  },
  {
   "cell_type": "code",
   "execution_count": null,
   "metadata": {},
   "outputs": [],
   "source": [
    "def object_printer(an_object):\n",
    "    if isinstance(an_object, Book):\n",
    "        attr_name = 'title'\n",
    "    elif isinstance(an_object, Person):\n",
    "        attr_name = 'name'\n",
    "    \n",
    "    attr_value = getattr(an_object, attr_name)\n",
    "    print(\"Object's {} is: {}\".format(attr_name, attr_value))"
   ]
  },
  {
   "cell_type": "code",
   "execution_count": null,
   "metadata": {},
   "outputs": [],
   "source": [
    "object_printer(jane)"
   ]
  },
  {
   "cell_type": "code",
   "execution_count": null,
   "metadata": {},
   "outputs": [],
   "source": [
    "object_printer(the_raven)"
   ]
  },
  {
   "cell_type": "markdown",
   "metadata": {},
   "source": [
    "This still looks a little bit hardcoded, we can improve it with `hasattr`. It'll let you check if a given object has a given attribute:"
   ]
  },
  {
   "cell_type": "code",
   "execution_count": null,
   "metadata": {},
   "outputs": [],
   "source": [
    "hasattr(jane, 'name')"
   ]
  },
  {
   "cell_type": "code",
   "execution_count": null,
   "metadata": {},
   "outputs": [],
   "source": [
    "hasattr(jane, 'tomatoes')"
   ]
  },
  {
   "cell_type": "code",
   "execution_count": null,
   "metadata": {},
   "outputs": [],
   "source": [
    "hasattr(the_raven, 'title')"
   ]
  },
  {
   "cell_type": "code",
   "execution_count": null,
   "metadata": {},
   "outputs": [],
   "source": [
    "hasattr(the_raven, 'football')"
   ]
  },
  {
   "cell_type": "markdown",
   "metadata": {},
   "source": [
    "So, we can rewrite our function (a little bit less hardcoded):"
   ]
  },
  {
   "cell_type": "code",
   "execution_count": null,
   "metadata": {},
   "outputs": [],
   "source": [
    "def object_printer(an_object):\n",
    "    if hasattr(an_object, 'title'):\n",
    "        attr_name = 'title'\n",
    "    elif hasattr(an_object, 'name'):\n",
    "        attr_name = 'name'\n",
    "\n",
    "    attr_value = getattr(an_object, attr_name)\n",
    "    print(\"Object's {} is: {}\".format(attr_name, attr_value))"
   ]
  },
  {
   "cell_type": "code",
   "execution_count": null,
   "metadata": {},
   "outputs": [],
   "source": [
    "object_printer(jane)"
   ]
  },
  {
   "cell_type": "code",
   "execution_count": null,
   "metadata": {},
   "outputs": [],
   "source": [
    "object_printer(the_raven)"
   ]
  },
  {
   "cell_type": "markdown",
   "metadata": {},
   "source": [
    "But, these are just strings, so we can make it even more dynamic:"
   ]
  },
  {
   "cell_type": "code",
   "execution_count": null,
   "metadata": {},
   "outputs": [],
   "source": [
    "def object_printer(an_object):\n",
    "    possible_attr_names = ['title', 'name']\n",
    "    \n",
    "    for attr_name in possible_attr_names:\n",
    "        if hasattr(an_object, attr_name):\n",
    "            attr_value = getattr(an_object, attr_name)\n",
    "            print(\"Object's {} is: {}\".format(attr_name, attr_value))\n"
   ]
  },
  {
   "cell_type": "code",
   "execution_count": null,
   "metadata": {},
   "outputs": [],
   "source": [
    "object_printer(jane)"
   ]
  },
  {
   "cell_type": "code",
   "execution_count": null,
   "metadata": {},
   "outputs": [],
   "source": [
    "object_printer(the_raven)"
   ]
  },
  {
   "cell_type": "markdown",
   "metadata": {},
   "source": [
    "Finally, `getattr` accepts a third parameter to avoid checking for attributes. Example:"
   ]
  },
  {
   "cell_type": "code",
   "execution_count": null,
   "metadata": {},
   "outputs": [],
   "source": [
    "obj = jane\n",
    "\n",
    "if hasattr(obj, 'title'):\n",
    "    value = getattr(obj, 'title')\n",
    "else:\n",
    "    value = None\n",
    "\n",
    "print(\"Object's title is: {}\".format(value))"
   ]
  },
  {
   "cell_type": "markdown",
   "metadata": {},
   "source": [
    "Can be transformed to:"
   ]
  },
  {
   "cell_type": "code",
   "execution_count": null,
   "metadata": {},
   "outputs": [],
   "source": [
    "obj = jane\n",
    "value = getattr(obj, 'title', None) # Third value is default\n",
    "print(\"Object's title is: {}\".format(value))"
   ]
  },
  {
   "cell_type": "markdown",
   "metadata": {},
   "source": [
    "### `setattr`:\n",
    "\n",
    "Let's you set values dynamically:"
   ]
  },
  {
   "cell_type": "code",
   "execution_count": null,
   "metadata": {},
   "outputs": [],
   "source": [
    "# jane.last_name = 'Doe'\n",
    "setattr(jane, 'last_name', 'Doe')"
   ]
  },
  {
   "cell_type": "code",
   "execution_count": null,
   "metadata": {},
   "outputs": [],
   "source": [
    "# the_raven.author = 'E. A. Poe'\n",
    "setattr(the_raven, 'author', 'E. A. Poe')"
   ]
  }
 ],
 "metadata": {
  "kernelspec": {
   "display_name": "Python 3",
   "language": "python",
   "name": "python3"
  },
  "language_info": {
   "codemirror_mode": {
    "name": "ipython",
    "version": 3
   },
   "file_extension": ".py",
   "mimetype": "text/x-python",
   "name": "python",
   "nbconvert_exporter": "python",
   "pygments_lexer": "ipython3",
   "version": "3.6.0"
  }
 },
 "nbformat": 4,
 "nbformat_minor": 2
}
