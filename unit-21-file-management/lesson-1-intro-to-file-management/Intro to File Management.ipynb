{
 "cells": [
  {
   "cell_type": "markdown",
   "metadata": {},
   "source": [
    "# Intro to File Management\n",
    "\n",
    "Working with files is crucial to write any meaningful software. The good news is that it's super simple to do file management in Python. For example, this is how you can read a file:\n",
    "\n",
    "```python\n",
    "f = open('data_file.csv', 'r')\n",
    "f.read()\n",
    "```\n",
    "\n",
    "Incredibly simple, right? The bad news is that it's not only Python the one we have to deal with..."
   ]
  },
  {
   "cell_type": "markdown",
   "metadata": {},
   "source": [
    "### The Good, the Bad and the Ugly\n",
    "\n",
    "As you just saw in our previous example, it's a bliss to work with files in Python (reading, writing, etc). It's sincerely a pleasure to do file management, compared to other languages (Java, I'm looking at you). The problem is that Python isn't the only actor to consider when dealing with files. Until today, our programs depended only on us: if we wrote it correctly, it'd work correctly. If we had bugs, it'd fail. But it was entirely our responsability.\n",
    "\n",
    "Starting with files, we'll need to start dealing also with:\n",
    "* The Operating System (the \"watchman\" of files), and\n",
    "* The user (ugh! 😖) and the environment.\n",
    "\n",
    "### The Bad: Operating System\n",
    "\n",
    "The Operating System is very protective of its files (and other I/O). After all, compromising files can cause severe damage and security threats to the overall system. The OS is in charge of controlling who (what program) can read which files, and at what extent. How much you can write, what permissions you can change, etc.\n",
    "\n",
    "The OS forms a barrier between our Python code and the actual files. That means that all the code that you write in Python, is actually being watched and supervised by the Operating System. For example, when you want to read from a file, Python is not directly accessing the files, but it's asking the OS to do it for us. The operating system is doing the file management under the hood, and presenting the results to Python.\n",
    "\n",
    "![Python and OS Interaction](https://docs.google.com/drawings/d/e/2PACX-1vS8_ENvTn7GpurxVKLSFy0kShHudStcz61nniB3FTEzeOOkHEdZ8dzAC86fimnjI9Ep49LRKEOY2gk5/pub?w=960&h=720)\n",
    "\n",
    "On top of that, there are **different operating systems** to deal with. As you know, Python is a very versatile programming language, and you can write software for Linux, Windows, OSX, Raspberry Pis, etc. So things tend to work differently for each Operating System. For example, permissions and owners in Windows and Linux work really differently.\n",
    "\n",
    "**Conclusion:** You can have a perfectly written Python program, but when you're trying to access a file, it has the wrong permissions and the OS doesn't grant you access. The result: your code will fail. Not because your code didn't work, but because of an external factor: The Bad, the OS.\n",
    "\n",
    "### The Ugly: User and environment\n",
    "\n",
    "When working with files, there's usually a \"user\" involved. The one deciding what files to read, or typing the name of the new file to save the results of that report that you've just perfectly written. There's also the OS user, the one with certain privileges, hard drive space assigned, etc. The user will screw things up most of the time. So you must be really careful and perform every check possible before interacting with your user.\n",
    "\n",
    "Even if you can deal with wild users, you still have to deal with the environment: [Cosmic rays](https://spectrum.ieee.org/computing/hardware/how-to-kill-a-supercomputer-dirty-power-cosmic-rays-and-bad-solder), [Bit rot (old drives)](https://superuser.com/questions/1075831/can-data-on-a-hard-disk-degrade-without-windows-warning-me-that-this-has-happene) or even [loud noises](https://www.youtube.com/watch?v=tDacjrSCeq4) (please don't yell at your hard drives 🙏, they get scared).\n",
    "\n",
    "**Conclusion:** You can have another perfectly working program, this time with the OS at your side, but the user might just choose the wrong directory to save their progress (one where they don't have write privileges for example). Or even if you have a smart user, and a friendly OS, a cosmic ray or a yelling engineer can screw over your entire program.\n",
    "\n",
    "### Final conclusion\n",
    "\n",
    "File management in Python is simple. But we need to be **extremely cautious**, and sadly, **brace for impact** before we even start writing code: we need to be ready to handle every possible error, because there will be errors, I guarantee you...\n",
    "\n",
    "### Python files, part 1\n",
    "\n",
    "Too much talk. Let's start with the basics of file management with Python. If there's one key function in File management, it's [`open`](https://docs.python.org/3/library/functions.html#open):\n",
    "\n",
    "```python\n",
    "open(file_name, [open_mode], ...)\n",
    "```\n",
    "\n",
    "As you can see, it receives the name of the file to open and the \"mode\" to open it. The most common modes are:\n",
    "* `'r'`: Open the file for reading\n",
    "* `'w'`: Open the file for writing (**WARNING,** erases the contents of the file).\n",
    "* "
   ]
  },
  {
   "cell_type": "code",
   "execution_count": null,
   "metadata": {},
   "outputs": [],
   "source": []
  }
 ],
 "metadata": {
  "kernelspec": {
   "display_name": "Python 3",
   "language": "python",
   "name": "python3"
  },
  "language_info": {
   "codemirror_mode": {
    "name": "ipython",
    "version": 3
   },
   "file_extension": ".py",
   "mimetype": "text/x-python",
   "name": "python",
   "nbconvert_exporter": "python",
   "pygments_lexer": "ipython3",
   "version": "3.6.0"
  }
 },
 "nbformat": 4,
 "nbformat_minor": 2
}
