{
 "cells": [
  {
   "cell_type": "markdown",
   "metadata": {},
   "source": [
    "# Map, Filter and Reduce\n",
    "\n",
    "These are three most important constructs employed in Functional Programming. They all receive two arguments as input:\n",
    "* A collection\n",
    "* A function\n",
    "\n",
    "and combining them create the final result. Let's explore them in detail.\n",
    "\n",
    "### Map\n",
    "\n",
    "[Map](https://en.wikipedia.org/wiki/Map_%28higher-order_function%29) takes a collection as input and a function and returns a new collection with the result of applying the passed function to each element, in order. Mouthful. Let's work the intuition first.\n",
    "\n",
    "Map will take a collection, for example, a list of names:\n",
    "\n",
    "```python\n",
    "l = ['Jane', 'Tom', 'Robert']\n",
    "```\n",
    "\n",
    "And an operation (a function) to apply on each element, for example: _\"Get the length in characters of each name\"_ and it'll output the following result:\n",
    "\n",
    "```python\n",
    "result = [4, 3, 6]\n",
    "```\n",
    "\n",
    "The result is `[4, 3, 6]` because we applied the function \"Extract the length in characters\" to each name, `'Jane'` has `4`, `'Tom'` has `3` and `'Robert'` has `6`.\n",
    "\n",
    "![map](https://user-images.githubusercontent.com/872296/37495831-05a1a77a-288e-11e8-82d5-4110bd8edf84.png)\n",
    "\n",
    "\n",
    "Let's code the function, because it's super simple:"
   ]
  },
  {
   "cell_type": "code",
   "execution_count": 1,
   "metadata": {},
   "outputs": [],
   "source": [
    "def get_length_of_name(a_name):\n",
    "    return len(a_name)"
   ]
  },
  {
   "cell_type": "code",
   "execution_count": 2,
   "metadata": {},
   "outputs": [
    {
     "data": {
      "text/plain": [
       "4"
      ]
     },
     "execution_count": 2,
     "metadata": {},
     "output_type": "execute_result"
    }
   ],
   "source": [
    "get_length_of_name('Jane')"
   ]
  },
  {
   "cell_type": "code",
   "execution_count": 3,
   "metadata": {},
   "outputs": [
    {
     "data": {
      "text/plain": [
       "6"
      ]
     },
     "execution_count": 3,
     "metadata": {},
     "output_type": "execute_result"
    }
   ],
   "source": [
    "get_length_of_name('Robert')"
   ]
  },
  {
   "cell_type": "markdown",
   "metadata": {},
   "source": [
    "Map then applied, **in order**, the function `get_length_of_name` to each name in the original list and created a new one containing each result:\n",
    "\n",
    "```\n",
    "'Jane'   => get_length_of_name => 4\n",
    "'Tom'    => get_length_of_name => 3\n",
    "'Robert' => get_length_of_name => 6\n",
    "```\n",
    "\n",
    "These are the working pieces of Map. Let's see it in action:"
   ]
  },
  {
   "cell_type": "code",
   "execution_count": 4,
   "metadata": {},
   "outputs": [],
   "source": [
    "list_of_names = ['Jane', 'Tom', 'Robert']"
   ]
  },
  {
   "cell_type": "code",
   "execution_count": 5,
   "metadata": {},
   "outputs": [],
   "source": [
    "result = map(get_length_of_name, list_of_names)"
   ]
  },
  {
   "cell_type": "code",
   "execution_count": 6,
   "metadata": {},
   "outputs": [
    {
     "data": {
      "text/plain": [
       "[4, 3, 6]"
      ]
     },
     "execution_count": 6,
     "metadata": {},
     "output_type": "execute_result"
    }
   ],
   "source": [
    "list(result)"
   ]
  },
  {
   "cell_type": "markdown",
   "metadata": {},
   "source": [
    "We need to coerce result into a list because in Python 3, these functions will all return \"_Iterators_\", which is a more advanced concept. Don't worry about it for now.\n",
    "\n",
    "As you can see, the notation of [`map`](https://docs.python.org/3/library/functions.html#map) is simple, it takes the function to apply to each element, and the collection of elements to apply that function to.\n",
    "\n",
    "But what's the big deal about it? Well, because it's a clean and, more importantly, **immutable** solution. How would you have solved it without map? With a for loop probably:"
   ]
  },
  {
   "cell_type": "code",
   "execution_count": 7,
   "metadata": {},
   "outputs": [
    {
     "name": "stdout",
     "output_type": "stream",
     "text": [
      "[4, 3, 6]\n"
     ]
    }
   ],
   "source": [
    "result = []\n",
    "for elem in list_of_names:\n",
    "    result.append(get_length_of_name(elem))\n",
    "print(result)"
   ]
  },
  {
   "cell_type": "markdown",
   "metadata": {},
   "source": [
    "The map version saved us a few lines of code, was a lot more expressive and, specially, **immutable** (in our for-loop solution, the variable `result` is modified several times). Looking at the for-loop version, you surely note that we don't need the `get_length_of_name` function. After all, it's just applying the `len` builtin function. We could rewrite it in this way:"
   ]
  },
  {
   "cell_type": "code",
   "execution_count": 8,
   "metadata": {},
   "outputs": [
    {
     "name": "stdout",
     "output_type": "stream",
     "text": [
      "[4, 3, 6]\n"
     ]
    }
   ],
   "source": [
    "result = []\n",
    "for elem in list_of_names:\n",
    "    result.append(len(elem))  # len instead of get_length_of_name\n",
    "print(result)"
   ]
  },
  {
   "cell_type": "markdown",
   "metadata": {},
   "source": [
    "Which means that we can also do that with our `map` example:"
   ]
  },
  {
   "cell_type": "code",
   "execution_count": 9,
   "metadata": {},
   "outputs": [],
   "source": [
    "result = map(len, list_of_names)"
   ]
  },
  {
   "cell_type": "code",
   "execution_count": 10,
   "metadata": {},
   "outputs": [
    {
     "data": {
      "text/plain": [
       "[4, 3, 6]"
      ]
     },
     "execution_count": 10,
     "metadata": {},
     "output_type": "execute_result"
    }
   ],
   "source": [
    "list(result)"
   ]
  },
  {
   "cell_type": "markdown",
   "metadata": {},
   "source": [
    "(Same result)\n",
    "\n",
    "The function applied to `map` (and `filter`, as we'll see later) is a function that works **per each element**. The notation would be `f(x) => y`, where `x` is an element of the collection:\n",
    "\n",
    "_Collection_: `[x₀, x₁, x₂, ..., xⱼ]`\n",
    "\n",
    "_Function_: `f(x) => y`\n",
    "\n",
    "_Result_: `[y₀, y₁, y₂, ..., yⱼ]`\n",
    "\n",
    "**Summary**\n",
    "\n",
    "```\n",
    "x₀  => f(x₀)  => y₀ \n",
    "x₁  => f(x₁)  => y₁\n",
    "x₂  => f(x₂)  => y₂\n",
    "...\n",
    "xⱼ  =>  f(xⱼ)  => yⱼ\n",
    "```\n",
    "\n",
    "Let's see another example. In this case we have a list of numbers and we want to square each one of them."
   ]
  },
  {
   "cell_type": "code",
   "execution_count": 11,
   "metadata": {},
   "outputs": [],
   "source": [
    "l = [0, 1, 2, 3, 4]"
   ]
  },
  {
   "cell_type": "markdown",
   "metadata": {},
   "source": [
    "The function in this case takes **a single** number, and returns it squared:"
   ]
  },
  {
   "cell_type": "code",
   "execution_count": 12,
   "metadata": {},
   "outputs": [],
   "source": [
    "def square(x):\n",
    "    return x ** 2"
   ]
  },
  {
   "cell_type": "markdown",
   "metadata": {},
   "source": [
    "Applying map with that function and list:"
   ]
  },
  {
   "cell_type": "code",
   "execution_count": 13,
   "metadata": {},
   "outputs": [],
   "source": [
    "result = map(square, l)"
   ]
  },
  {
   "cell_type": "code",
   "execution_count": 14,
   "metadata": {},
   "outputs": [
    {
     "data": {
      "text/plain": [
       "[0, 1, 4, 9, 16]"
      ]
     },
     "execution_count": 14,
     "metadata": {},
     "output_type": "execute_result"
    }
   ],
   "source": [
    "list(result)"
   ]
  },
  {
   "cell_type": "markdown",
   "metadata": {},
   "source": [
    "You can probably think that defining an entire function for an operation as simple as square is overkilling. So we can use our good ol' friends **lambdas** to make it a little bit more concise:"
   ]
  },
  {
   "cell_type": "code",
   "execution_count": 15,
   "metadata": {},
   "outputs": [],
   "source": [
    "result = map(lambda x: x ** 2, l)"
   ]
  },
  {
   "cell_type": "code",
   "execution_count": 16,
   "metadata": {
    "scrolled": true
   },
   "outputs": [
    {
     "data": {
      "text/plain": [
       "[0, 1, 4, 9, 16]"
      ]
     },
     "execution_count": 16,
     "metadata": {},
     "output_type": "execute_result"
    }
   ],
   "source": [
    "list(result)"
   ]
  }
 ],
 "metadata": {
  "kernelspec": {
   "display_name": "Python 3",
   "language": "python",
   "name": "python3"
  },
  "language_info": {
   "codemirror_mode": {
    "name": "ipython",
    "version": 3
   },
   "file_extension": ".py",
   "mimetype": "text/x-python",
   "name": "python",
   "nbconvert_exporter": "python",
   "pygments_lexer": "ipython3",
   "version": "3.6.0"
  }
 },
 "nbformat": 4,
 "nbformat_minor": 2
}
