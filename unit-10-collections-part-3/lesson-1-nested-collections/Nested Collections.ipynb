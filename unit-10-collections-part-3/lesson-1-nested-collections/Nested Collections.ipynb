{
 "cells": [
  {
   "cell_type": "markdown",
   "metadata": {},
   "source": [
    "# Nested Collections"
   ]
  },
  {
   "cell_type": "markdown",
   "metadata": {},
   "source": [
    "### Part 1: Maps nested into sequences"
   ]
  },
  {
   "cell_type": "code",
   "execution_count": 1,
   "metadata": {},
   "outputs": [],
   "source": [
    "products = [{\n",
    "    'id': 'W-101',\n",
    "    'name': 'Arakh of Khal Drogo',\n",
    "    'price': 250,\n",
    "    'category': 'Weapons'\n",
    "}, {\n",
    "    'id': 'W-90',\n",
    "    'name': 'Damascus Steel Widows Wail',\n",
    "    'price': 960,\n",
    "    'category': 'Weapons'\n",
    "}, {\n",
    "    'id': 'W-32',\n",
    "    'name': 'Damascus Oathkeeper Sword',\n",
    "    'price': 810,\n",
    "    'category': 'Weapons'\n",
    "}, {\n",
    "    'id': 'S-81',\n",
    "    'name': 'Lannister Shield',\n",
    "    'price': 310,\n",
    "    'category': 'Shields'\n",
    "}, {\n",
    "    'id': 'S-13',\n",
    "    'name': 'Stark Infantry Shield',\n",
    "    'price': 180,\n",
    "    'category': 'Shields'\n",
    "}, {\n",
    "    'id': 'H-78',\n",
    "    'name': 'Helm of the Unsullied',\n",
    "    'price': 90,\n",
    "    'category': 'Helms'\n",
    "}, {\n",
    "    'id': 'H-54',\n",
    "    'name': \"The Hound's Helm\",\n",
    "    'price': 120,\n",
    "    'category': 'Helms'\n",
    "}, {\n",
    "    'id': 'H-67',\n",
    "    'name': 'Helmet of Loras Tyrell',\n",
    "    'price': 378,\n",
    "    'category': 'Helms'\n",
    "}]"
   ]
  },
  {
   "cell_type": "markdown",
   "metadata": {},
   "source": [
    "**1. Find the most expensive item**\n",
    "\n",
    "_(Result will be a single item)_"
   ]
  },
  {
   "cell_type": "markdown",
   "metadata": {},
   "source": [
    "**2. Find the most expensive Weapon**\n",
    "\n",
    "_(Result is also an item, but we've applied a filter)_"
   ]
  },
  {
   "cell_type": "markdown",
   "metadata": {},
   "source": [
    "**3. Find the most expensive item per category**\n",
    "\n",
    "_(Result is another collection)_"
   ]
  },
  {
   "cell_type": "markdown",
   "metadata": {},
   "source": [
    "**4. Calculate the total sum of prices of products**\n",
    "\n",
    "_(Result is a single number)_"
   ]
  },
  {
   "cell_type": "markdown",
   "metadata": {},
   "source": [
    "**5. Count the number of items per category**\n",
    "\n",
    "_(Result is another collection)_"
   ]
  },
  {
   "cell_type": "markdown",
   "metadata": {},
   "source": [
    "### Part 2: Sequences nested into maps"
   ]
  },
  {
   "cell_type": "code",
   "execution_count": 2,
   "metadata": {},
   "outputs": [],
   "source": [
    "character = {\n",
    "    'name': 'The Hound',\n",
    "    'weapons': ['W-101', 'W-390'],\n",
    "    'hemls': ['H-54'],\n",
    "    'shields': ['S-13', 'S98']\n",
    "}"
   ]
  },
  {
   "cell_type": "markdown",
   "metadata": {},
   "source": [
    "### Part 3: Putting it all together"
   ]
  },
  {
   "cell_type": "code",
   "execution_count": 3,
   "metadata": {},
   "outputs": [],
   "source": [
    "character = {\n",
    "    'name': 'The Hound',\n",
    "    'weapons': [{\n",
    "        'id': 'W-101',\n",
    "        'name': 'Arakh of Khal Drogo',\n",
    "        'price': 250,\n",
    "        'category': 'Weapons'\n",
    "    }, {\n",
    "        'id': 'W-90',\n",
    "        'name': 'Damascus Steel Widows Wail',\n",
    "        'price': 960,\n",
    "        'category': 'Weapons'\n",
    "    }],\n",
    "    'hemls': [{\n",
    "        'id': 'H-54',\n",
    "        'name': \"The Hound's Helm\",\n",
    "        'price': 120,\n",
    "        'category': 'Helms'\n",
    "    }],\n",
    "    'shields': [{\n",
    "        'id': 'S-81',\n",
    "        'name': 'Lannister Shield',\n",
    "        'price': 310,\n",
    "        'category': 'Shields'\n",
    "    }, {\n",
    "        'id': 'S-13',\n",
    "        'name': 'Stark Infantry Shield',\n",
    "        'price': 180,\n",
    "        'category': 'Shields'\n",
    "    },]\n",
    "}"
   ]
  },
  {
   "cell_type": "code",
   "execution_count": 4,
   "metadata": {},
   "outputs": [],
   "source": [
    "# Getting the most expensive items under these keys:\n",
    "keys = ['weapons', 'hemls', 'shields']"
   ]
  },
  {
   "cell_type": "code",
   "execution_count": null,
   "metadata": {},
   "outputs": [],
   "source": []
  }
 ],
 "metadata": {
  "kernelspec": {
   "display_name": "Python 3",
   "language": "python",
   "name": "python3"
  },
  "language_info": {
   "codemirror_mode": {
    "name": "ipython",
    "version": 3
   },
   "file_extension": ".py",
   "mimetype": "text/x-python",
   "name": "python",
   "nbconvert_exporter": "python",
   "pygments_lexer": "ipython3",
   "version": "3.6.0"
  }
 },
 "nbformat": 4,
 "nbformat_minor": 2
}
