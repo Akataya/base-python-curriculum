{
 "cells": [
  {
   "cell_type": "markdown",
   "metadata": {},
   "source": [
    "# Function Scopes"
   ]
  },
  {
   "cell_type": "markdown",
   "metadata": {},
   "source": [
    "**A function can access the \"global\" scope**"
   ]
  },
  {
   "cell_type": "code",
   "execution_count": null,
   "metadata": {},
   "outputs": [],
   "source": [
    "some_global_var = 'Hello World!'\n",
    "\n",
    "def scope_test():\n",
    "    print(\"Inside fun: \", some_global_var)\n",
    "\n",
    "scope_test()\n",
    "print(\"Outside fun: \", some_global_var)"
   ]
  },
  {
   "cell_type": "markdown",
   "metadata": {},
   "source": [
    "**A function redefines its own scope**"
   ]
  },
  {
   "cell_type": "code",
   "execution_count": null,
   "metadata": {},
   "outputs": [],
   "source": [
    "some_global_var = 'Hello World!'\n",
    "\n",
    "def scope_test():\n",
    "    some_global_var = 'Goodbye cruel World!'\n",
    "    print(\"Inside fun: \", some_global_var)\n",
    "\n",
    "scope_test()\n",
    "print(\"Outside fun: \", some_global_var)"
   ]
  },
  {
   "cell_type": "markdown",
   "metadata": {},
   "source": [
    "**A function can't modify a global variable...**"
   ]
  },
  {
   "cell_type": "code",
   "execution_count": null,
   "metadata": {},
   "outputs": [],
   "source": [
    "age = 13\n",
    "\n",
    "def scope_test():\n",
    "    age += 1\n",
    "    print(\"Inside fun: \", age)  # 😢 this will fail\n",
    "\n",
    "scope_test()\n",
    "print(\"Outside fun: \", age)"
   ]
  },
  {
   "cell_type": "markdown",
   "metadata": {},
   "source": [
    "**...except, we explicitly make it happen**"
   ]
  },
  {
   "cell_type": "code",
   "execution_count": null,
   "metadata": {},
   "outputs": [],
   "source": [
    "age = 13\n",
    "\n",
    "def scope_test():\n",
    "    global age\n",
    "    age += 1\n",
    "    print(\"Inside fun: \", age)  # 😡 not recommended!\n",
    "\n",
    "scope_test()\n",
    "print(\"Outside fun: \", age)"
   ]
  },
  {
   "cell_type": "code",
   "execution_count": null,
   "metadata": {},
   "outputs": [],
   "source": []
  }
 ],
 "metadata": {
  "kernelspec": {
   "display_name": "Python 3",
   "language": "python",
   "name": "python3"
  },
  "language_info": {
   "codemirror_mode": {
    "name": "ipython",
    "version": 3
   },
   "file_extension": ".py",
   "mimetype": "text/x-python",
   "name": "python",
   "nbconvert_exporter": "python",
   "pygments_lexer": "ipython3",
   "version": "3.6.0"
  }
 },
 "nbformat": 4,
 "nbformat_minor": 2
}
