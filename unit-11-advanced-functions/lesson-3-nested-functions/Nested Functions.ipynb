{
 "cells": [
  {
   "cell_type": "markdown",
   "metadata": {},
   "source": [
    "# Nested Functions"
   ]
  },
  {
   "cell_type": "code",
   "execution_count": null,
   "metadata": {},
   "outputs": [],
   "source": [
    "def calculate(op, x, y):\n",
    "    def add():\n",
    "        return x + y\n",
    "    def subtract():\n",
    "        return x - y\n",
    "    def multiply():\n",
    "        return x * y\n",
    "    def divide():\n",
    "        return x / y\n",
    "    \n",
    "    if op == 'add':\n",
    "        return add()\n",
    "    elif op == 'subtract':\n",
    "        return subtract()\n",
    "    elif op == 'multiply':\n",
    "        return multiply()\n",
    "    else:\n",
    "        return divide()"
   ]
  },
  {
   "cell_type": "code",
   "execution_count": null,
   "metadata": {},
   "outputs": [],
   "source": [
    "calculate('divide', 2, 3)"
   ]
  },
  {
   "cell_type": "markdown",
   "metadata": {},
   "source": [
    "### `nonlocal` (Python 3 only)"
   ]
  },
  {
   "cell_type": "code",
   "execution_count": null,
   "metadata": {},
   "outputs": [],
   "source": [
    "result = 'Something completely unrelated'\n",
    "def calculate(op, x, y):\n",
    "    result = 'not changed'\n",
    "    def add():\n",
    "        result = x + y\n",
    "    def subtract():\n",
    "        result = x - y\n",
    "    def multiply():\n",
    "        result = x * y\n",
    "    def divide():\n",
    "        result = x / y\n",
    "    \n",
    "    if op == 'add':\n",
    "        add()\n",
    "    elif op == 'subtract':\n",
    "        subtract()\n",
    "    elif op == 'multiply':\n",
    "        multiply()\n",
    "    else:\n",
    "        divide()\n",
    "    \n",
    "    return result\n",
    "\n",
    "print(\"Calc result: \", calculate('add', 2, 3))\n",
    "print(\"Global result: \", result)"
   ]
  },
  {
   "cell_type": "code",
   "execution_count": null,
   "metadata": {},
   "outputs": [],
   "source": [
    "calculate('add', 2, 3)"
   ]
  },
  {
   "cell_type": "code",
   "execution_count": null,
   "metadata": {},
   "outputs": [],
   "source": []
  }
 ],
 "metadata": {
  "kernelspec": {
   "display_name": "Python 3",
   "language": "python",
   "name": "python3"
  },
  "language_info": {
   "codemirror_mode": {
    "name": "ipython",
    "version": 3
   },
   "file_extension": ".py",
   "mimetype": "text/x-python",
   "name": "python",
   "nbconvert_exporter": "python",
   "pygments_lexer": "ipython3",
   "version": "3.6.0"
  }
 },
 "nbformat": 4,
 "nbformat_minor": 2
}
